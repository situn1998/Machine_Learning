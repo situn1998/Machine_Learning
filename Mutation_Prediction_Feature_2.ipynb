{
 "cells": [
  {
   "cell_type": "code",
   "execution_count": 1,
   "metadata": {},
   "outputs": [
    {
     "name": "stdout",
     "output_type": "stream",
     "text": [
      "Total length of sequence is :: 1271\n",
      "The number of A in sequence is :: 100\n"
     ]
    }
   ],
   "source": [
    "import numpy as np\n",
    "\n",
    "s = \"MFVFLVLLPLVSSQCVNLRTRTQLPPAYTNSFTRGVYYPDKVFRSSVLHSTQDLFLPFFSNVTWFHAIHVSGTNGTKRFDNPVLPFNDGVYFASTEKSNIIRGWIFGTTLDSKTQSLLIVNNATNVVIKVCEFQFCNDPFLDVYYHKNNKSWMESGVYSSANNCTFEYVSQPFLMDLEGKQGNFKNLREFVFKNIDGYFKIYSKHTPINLVRDLPQGFSALEPLVDLPIGINITRFQTLLALHRSYLTPGDSSSGWTAGAAAYYVGYLQPRTFLLKYNENGTITDAVDCALDPLSETKCTLKSFTVEKGIYQTSNFRVQPTESIVRFPNITNLCPFGEVFNATRFASVYAWNRKRISNCVADYSVLYNSASFSTFKCYGVSPTKLNDLCFTNVYADSFVIRGDEVRQIAPGQTGKIADYNYKLPDDFTGCVIAWNSNNLDSKVGGNYNYRYRLFRKSNLKPFERDISTEIYQAGSKPCNGVEGFNCYFPLQSYGFQPTNGVGYQPYRVVVLSFELLHAPATVCGPKKSTNLVKNKCVNFNFNGLTGTGVLTESNKKFLPFQQFGRDIADTTDAVRDPQTLEILDITPCSFGGVSVITPGTNTSNQVAVLYQGVNCTEVPVAIHADQLTPTWRVYSTGSNVFQTRAGCLIGAEHVNNSYECDIPIGAGICASYQTQTNSRRRARSVASQSIIAYTMSLGAENSVAYSNNSIAIPTNFTISVTTEILPVSMTKTSVDCTMYICGDSTECSNLLLQYGSFCTQLNRALTGIAVEQDKNTQEVFAQVKQIYKTPPIKDFGGFNFSQILPDPSKPSKRSFIEDLLFNKVTLADAGFIKQYGDCLGDIAARDLICAQKFNGLTVLPPLLTDEMIAQYTSALLAGTITSGWTFGAGAALQIPFAMQMAYRFNGIGVTQNVLYENQKLIANQFNSAIGKIQDSLSSTASALGKLQDVVNQNAQALNTLVKQLSSNFGAISSVLNDILSRLDKVEAEVQIDRLITGRLQSLQTYVTQQLIRAAEIRSSANLAATKMSECVLGQSKRVDFCGKGYHLMSFPQSAPHGVVFLHVTYVPAQEKNFTTAPAICHDGKAHFPREGVFVSNGTHWFVTQRNFYEPQIITTDNTFVSGNCDVVIGIVNNTVYDPLQPELDSFKEELDKYFKNHTSPDVDLGDISGINASVVNIQKEIDRLNEVAKNLNESLIDLQELGKYEQYIKWPWYIWLGFIAGLIAIVMVTIMLCCMTSCCSCLKGCCSCGSCCKFDEDDSEPVLKGVKLHYT\"\n",
    "amino = \"S\"\n",
    "print(\"Total length of sequence is ::\", len(s))\n",
    "print(\"The number of A in sequence is ::\",s.count(amino))"
   ]
  },
  {
   "cell_type": "code",
   "execution_count": 2,
   "metadata": {},
   "outputs": [
    {
     "name": "stdout",
     "output_type": "stream",
     "text": [
      "13\n"
     ]
    }
   ],
   "source": [
    "partition = round(len(s)/s.count(amino))\n",
    "print(partition)"
   ]
  },
  {
   "cell_type": "code",
   "execution_count": 3,
   "metadata": {},
   "outputs": [
    {
     "name": "stdout",
     "output_type": "stream",
     "text": [
      "['MFVFLVLLPLVSS', 'QCVNLRTRTQLPP', 'AYTNSFTRGVYYP', 'DKVFRSSVLHSTQ', 'DLFLPFFSNVTWF', 'HAIHVSGTNGTKR', 'FDNPVLPFNDGVY', 'FASTEKSNIIRGW', 'IFGTTLDSKTQSL', 'LIVNNATNVVIKV', 'CEFQFCNDPFLDV', 'YYHKNNKSWMESG', 'VYSSANNCTFEYV', 'SQPFLMDLEGKQG', 'NFKNLREFVFKNI', 'DGYFKIYSKHTPI', 'NLVRDLPQGFSAL', 'EPLVDLPIGINIT', 'RFQTLLALHRSYL', 'TPGDSSSGWTAGA', 'AAYYVGYLQPRTF', 'LLKYNENGTITDA', 'VDCALDPLSETKC', 'TLKSFTVEKGIYQ', 'TSNFRVQPTESIV', 'RFPNITNLCPFGE', 'VFNATRFASVYAW', 'NRKRISNCVADYS', 'VLYNSASFSTFKC', 'YGVSPTKLNDLCF', 'TNVYADSFVIRGD', 'EVRQIAPGQTGKI', 'ADYNYKLPDDFTG', 'CVIAWNSNNLDSK', 'VGGNYNYRYRLFR', 'KSNLKPFERDIST', 'EIYQAGSKPCNGV', 'EGFNCYFPLQSYG', 'FQPTNGVGYQPYR', 'VVVLSFELLHAPA', 'TVCGPKKSTNLVK', 'NKCVNFNFNGLTG', 'TGVLTESNKKFLP', 'FQQFGRDIADTTD', 'AVRDPQTLEILDI', 'TPCSFGGVSVITP', 'GTNTSNQVAVLYQ', 'GVNCTEVPVAIHA', 'DQLTPTWRVYSTG', 'SNVFQTRAGCLIG', 'AEHVNNSYECDIP', 'IGAGICASYQTQT', 'NSRRRARSVASQS', 'IIAYTMSLGAENS', 'VAYSNNSIAIPTN', 'FTISVTTEILPVS', 'MTKTSVDCTMYIC', 'GDSTECSNLLLQY', 'GSFCTQLNRALTG', 'IAVEQDKNTQEVF', 'AQVKQIYKTPPIK', 'DFGGFNFSQILPD', 'PSKPSKRSFIEDL', 'LFNKVTLADAGFI', 'KQYGDCLGDIAAR', 'DLICAQKFNGLTV', 'LPPLLTDEMIAQY', 'TSALLAGTITSGW', 'TFGAGAALQIPFA', 'MQMAYRFNGIGVT', 'QNVLYENQKLIAN', 'QFNSAIGKIQDSL', 'SSTASALGKLQDV', 'VNQNAQALNTLVK', 'QLSSNFGAISSVL', 'NDILSRLDKVEAE', 'VQIDRLITGRLQS', 'LQTYVTQQLIRAA', 'EIRSSANLAATKM', 'SECVLGQSKRVDF', 'CGKGYHLMSFPQS', 'APHGVVFLHVTYV', 'PAQEKNFTTAPAI', 'CHDGKAHFPREGV', 'FVSNGTHWFVTQR', 'NFYEPQIITTDNT', 'FVSGNCDVVIGIV', 'NNTVYDPLQPELD', 'SFKEELDKYFKNH', 'TSPDVDLGDISGI', 'NASVVNIQKEIDR', 'LNEVAKNLNESLI', 'DLQELGKYEQYIK', 'WPWYIWLGFIAGL', 'IAIVMVTIMLCCM', 'TSCCSCLKGCCSC', 'GSCCKFDEDDSEP', 'VLKGVKLHYT']\n"
     ]
    }
   ],
   "source": [
    "g = []\n",
    "chunks, chunk_size = len(s), partition\n",
    "for i in range(0, chunks, chunk_size):\n",
    "    x = s[i:i+chunk_size]\n",
    "    g.append(x)\n",
    "print(g)"
   ]
  },
  {
   "cell_type": "code",
   "execution_count": 4,
   "metadata": {
    "scrolled": true
   },
   "outputs": [
    {
     "name": "stdout",
     "output_type": "stream",
     "text": [
      "98\n"
     ]
    }
   ],
   "source": [
    "print(len(g))"
   ]
  },
  {
   "cell_type": "code",
   "execution_count": 5,
   "metadata": {},
   "outputs": [
    {
     "name": "stdout",
     "output_type": "stream",
     "text": [
      "The partition containing 0 Alanine is :: 37\n",
      "The partition containing 1 Alanine is :: 32\n",
      "The partition containing 2 Alanine is :: 21\n",
      "The partition containing 3 Alanine is :: 6\n",
      "The partition containing 4 Alanine is :: 2\n",
      "The partition containing 5 Alanine is :: 0\n"
     ]
    }
   ],
   "source": [
    "count_0 = 0\n",
    "count_1 = 0\n",
    "count_2 = 0\n",
    "count_3 = 0\n",
    "count_4 = 0\n",
    "count_5 = 0\n",
    "c0 = []\n",
    "c1 = []\n",
    "c2 = []\n",
    "c3 = []\n",
    "c4 = []\n",
    "c5 = []\n",
    "for z in range(0,len(g)):\n",
    "    b = g[z].count(amino)\n",
    "    if(b==0):\n",
    "        count_0 +=1\n",
    "        c0.append(count_0)\n",
    "    elif(b==1):\n",
    "        count_1 +=1\n",
    "        c1.append(count_1)\n",
    "    elif(b==2):\n",
    "        count_2 +=1\n",
    "        c2.append(count_2)\n",
    "    elif(b==3):\n",
    "        count_3 +=1\n",
    "        c3.append(count_3)\n",
    "    elif(b==4):\n",
    "        count_4 +=1\n",
    "        c4.append(count_4)\n",
    "    elif(b==5):\n",
    "        count_5 +=1\n",
    "        c5.append(count_5)\n",
    "print(\"The partition containing 0 Alanine is ::\", len(c0))\n",
    "print(\"The partition containing 1 Alanine is ::\", len(c1))\n",
    "print(\"The partition containing 2 Alanine is ::\", len(c2))\n",
    "print(\"The partition containing 3 Alanine is ::\", len(c3))\n",
    "print(\"The partition containing 4 Alanine is ::\", len(c4))\n",
    "print(\"The partition containing 5 Alanine is ::\", len(c5))"
   ]
  },
  {
   "cell_type": "code",
   "execution_count": 6,
   "metadata": {},
   "outputs": [],
   "source": [
    "def factorial(n):\n",
    "    if (n==1 or n==0):\n",
    "        return 1\n",
    "    else:\n",
    "        return n*factorial(n-1)"
   ]
  },
  {
   "cell_type": "code",
   "execution_count": 25,
   "metadata": {},
   "outputs": [
    {
     "name": "stdout",
     "output_type": "stream",
     "text": [
      "29.889279287497292\n"
     ]
    }
   ],
   "source": [
    "r = 101#s.count(amino)\n",
    "n = 103#r-1#len(g)\n",
    "first = factorial(r)/(factorial(len(c0))*factorial(len(c1))*factorial(len(c2))*factorial(len(c3))*factorial(len(c4)))\n",
    "\n",
    "second_den = []\n",
    "for i in range(0,len(g)):\n",
    "    fact = factorial(g[i].count(amino))\n",
    "    second_den.append(fact)\n",
    "\n",
    "product = 1\n",
    "for item in second_den:\n",
    "    product = product*item\n",
    "second = factorial(r)/product\n",
    "third = n**(-r)\n",
    "final = first*second*third\n",
    "print(final)\n",
    "#print(second_den)\n",
    "#print(product)"
   ]
  },
  {
   "cell_type": "code",
   "execution_count": 8,
   "metadata": {},
   "outputs": [
    {
     "name": "stdout",
     "output_type": "stream",
     "text": [
      "4.0546648155437247e+45\n"
     ]
    }
   ],
   "source": [
    "x = factorial(102)/(factorial(42)*factorial(37)*factorial(21)*factorial(5)*factorial(2))\n",
    "print(x)"
   ]
  },
  {
   "cell_type": "code",
   "execution_count": 9,
   "metadata": {},
   "outputs": [
    {
     "name": "stdout",
     "output_type": "stream",
     "text": [
      "1.3267297885212e-205\n"
     ]
    }
   ],
   "source": [
    "y = 102**(-102)\n",
    "print(y)"
   ]
  },
  {
   "cell_type": "code",
   "execution_count": 10,
   "metadata": {},
   "outputs": [
    {
     "name": "stdout",
     "output_type": "stream",
     "text": [
      "5.379444593250676e-160\n"
     ]
    }
   ],
   "source": [
    "z = x*y\n",
    "print(z)"
   ]
  },
  {
   "cell_type": "code",
   "execution_count": 11,
   "metadata": {},
   "outputs": [
    {
     "name": "stdout",
     "output_type": "stream",
     "text": [
      "56358560858112\n"
     ]
    }
   ],
   "source": [
    "#print(second_den)\n",
    "print(product)"
   ]
  },
  {
   "cell_type": "code",
   "execution_count": 12,
   "metadata": {},
   "outputs": [
    {
     "name": "stdout",
     "output_type": "stream",
     "text": [
      "1.7059461009376117e+148\n"
     ]
    }
   ],
   "source": [
    "a = factorial(102)/product\n",
    "print(a)"
   ]
  },
  {
   "cell_type": "code",
   "execution_count": 13,
   "metadata": {},
   "outputs": [
    {
     "name": "stdout",
     "output_type": "stream",
     "text": [
      "9.177042529065907e-12\n"
     ]
    }
   ],
   "source": [
    "fin = a*z\n",
    "print(fin)"
   ]
  },
  {
   "cell_type": "code",
   "execution_count": 14,
   "metadata": {},
   "outputs": [
    {
     "name": "stdout",
     "output_type": "stream",
     "text": [
      "3000684147.3189096\n"
     ]
    }
   ],
   "source": [
    "fi = 0.0275374060362395\n",
    "ac = fi/fin\n",
    "print(ac)"
   ]
  },
  {
   "cell_type": "code",
   "execution_count": null,
   "metadata": {},
   "outputs": [],
   "source": []
  }
 ],
 "metadata": {
  "kernelspec": {
   "display_name": "Python 3",
   "language": "python",
   "name": "python3"
  },
  "language_info": {
   "codemirror_mode": {
    "name": "ipython",
    "version": 3
   },
   "file_extension": ".py",
   "mimetype": "text/x-python",
   "name": "python",
   "nbconvert_exporter": "python",
   "pygments_lexer": "ipython3",
   "version": "3.8.5"
  }
 },
 "nbformat": 4,
 "nbformat_minor": 5
}
